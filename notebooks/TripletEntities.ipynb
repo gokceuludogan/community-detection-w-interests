{
  "nbformat": 4,
  "nbformat_minor": 0,
  "metadata": {
    "colab": {
      "name": "TripletEntities.ipynb",
      "provenance": []
    },
    "kernelspec": {
      "name": "python3",
      "display_name": "Python 3"
    },
    "language_info": {
      "name": "python"
    }
  },
  "cells": [
    {
      "cell_type": "code",
      "execution_count": 1,
      "metadata": {
        "id": "cU2fuBihF784"
      },
      "outputs": [],
      "source": [
        "import pandas as pd\n",
        "from tqdm import tqdm\n",
        "tqdm.pandas()"
      ]
    },
    {
      "cell_type": "code",
      "source": [
        "db_tweets = pd.read_csv('../data/db_annotated_tweets.csv', index_col=False)\n",
        "db_tweets = db_tweets.fillna('')"
      ],
      "metadata": {
        "id": "7X34z-Wh07zQ"
      },
      "execution_count": null,
      "outputs": []
    },
    {
      "cell_type": "code",
      "source": [
        "def Interests(db_ents):\n",
        "  ents=db_ents.split(\";\")\n",
        "  entities=[]\n",
        "  for ent in ents:\n",
        "    ent_list=ent.split(\",\")\n",
        "    \n",
        "    if \"DBpedia:Agent\" in ent_list:\n",
        "          entities.append(ent_list[0]+\":Agent\")\n",
        "\n",
        "    elif \"DBpedia:Place\" in ent_list:\n",
        "          entities.append(ent_list[0]+\":Place\")\n",
        "\n",
        "    elif \"DBpedia:TopicalConcept\" in ent_list:\n",
        "          entities.append(ent_list[0]+\":TopicalConcept\")\n",
        "\n",
        "  entities=list(set(entities))\n",
        "  #print(entities)\n",
        "  if len(entities)>0:\n",
        "      return \",\".join(entities)\n",
        "    \n",
        "  return '' "
      ],
      "metadata": {
        "id": "zsBUkJr61Pu8"
      },
      "execution_count": null,
      "outputs": []
    },
    {
      "cell_type": "code",
      "source": [
        "entities[\"db_ents\"]=entities[\"db_ents\"].apply(lambda x: Interests(x))\n",
        "entities=entities[entities[\"db_ents\"]!='']\n",
        "entities['UserName'] = entities['UserName'].apply(lambda x: x.replace('@', '').replace(' ', ''))\n",
        "entities.drop(['Unnamed: 0','index','Unnamed: 0.1','TweetText','Timestamp','Tweet URL','collector','TweetID','Entities','UserID','retweet','mentions'], axis=1, inplace=True)\n",
        "entities.head()"
      ],
      "metadata": {
        "id": "MAbYD43u1WW7"
      },
      "execution_count": null,
      "outputs": []
    },
    {
      "cell_type": "code",
      "source": [
        "final_list=[]\n",
        "for i in range(len(entities)):\n",
        "  ents=entities.iloc[i][\"db_ents\"]\n",
        "  ent_pairs=ents.split(\",\")\n",
        "  for pair in ent_pairs:\n",
        "    ss=pair.split(\":\")\n",
        "    tmp=[]\n",
        "    tmp.append(entities.iloc[i][\"UserName\"])\n",
        "    tmp.append(ss[1])\n",
        "    tmp.append(ss[0])\n",
        "    final_list.append(tmp)\n",
        "\n",
        "entity_triplets = pd.DataFrame(final_list,columns=[\"user\",\"interest type\", \"interest\"])"
      ],
      "metadata": {
        "id": "H7pJbYYn1bcv"
      },
      "execution_count": null,
      "outputs": []
    },
    {
      "cell_type": "code",
      "source": [
        "entity_triplets.head()"
      ],
      "metadata": {
        "id": "fa4vsFoe1oJD"
      },
      "execution_count": null,
      "outputs": []
    },
    {
      "cell_type": "code",
      "source": [
        "entity_triplets.to_csv('../data/entities.csv')"
      ],
      "metadata": {
        "id": "xuPy0t0O1tfZ"
      },
      "execution_count": null,
      "outputs": []
    }
  ]
}