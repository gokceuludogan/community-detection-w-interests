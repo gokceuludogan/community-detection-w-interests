{
 "cells": [
  {
   "cell_type": "code",
   "execution_count": 3,
   "metadata": {
    "id": "cU2fuBihF784"
   },
   "outputs": [],
   "source": [
    "import pandas as pd\n",
    "from tqdm import tqdm\n",
    "tqdm.pandas()"
   ]
  },
  {
   "cell_type": "code",
   "execution_count": 15,
   "metadata": {},
   "outputs": [],
   "source": [
    "classes =  ['Person', 'Organization', 'Group']"
   ]
  },
  {
   "cell_type": "code",
   "execution_count": 4,
   "metadata": {
    "id": "7X34z-Wh07zQ"
   },
   "outputs": [
    {
     "name": "stderr",
     "output_type": "stream",
     "text": [
      "C:\\Users\\gokce\\Anaconda3\\lib\\site-packages\\IPython\\core\\interactiveshell.py:3156: DtypeWarning: Columns (0,1,6) have mixed types.Specify dtype option on import or set low_memory=False.\n",
      "  interactivity=interactivity, compiler=compiler, result=result)\n"
     ]
    }
   ],
   "source": [
    "db_tweets = pd.read_csv('../data/db_annotated_tweets.csv', index_col=False)\n",
    "db_tweets = db_tweets.fillna('')"
   ]
  },
  {
   "cell_type": "code",
   "execution_count": 5,
   "metadata": {},
   "outputs": [],
   "source": [
    "db_tweets['db_ents_list'] = db_tweets['db_ents'].apply(lambda x: [item.split(',') for item in x.replace('\"', '').split(';')])\n",
    "db_entities = db_tweets.explode('db_ents_list')[['UserName', 'db_ents_list']]"
   ]
  },
  {
   "cell_type": "code",
   "execution_count": 7,
   "metadata": {},
   "outputs": [],
   "source": [
    "db_entities['entity_uri'] = db_entities['db_ents_list'].apply(lambda x: x[2] if len(x) > 2 else '')"
   ]
  },
  {
   "cell_type": "code",
   "execution_count": 12,
   "metadata": {},
   "outputs": [],
   "source": [
    "db_entities['entity_type'] = db_entities['db_ents_list'].apply(lambda x: [i for i in (x[4:] if len(x) > 4 else []) if 'DBpedia' in i])"
   ]
  },
  {
   "cell_type": "code",
   "execution_count": 13,
   "metadata": {},
   "outputs": [],
   "source": [
    "db_entities_w_types = db_entities.explode('entity_type')"
   ]
  },
  {
   "cell_type": "code",
   "execution_count": 21,
   "metadata": {},
   "outputs": [],
   "source": [
    "filtered_entities = db_entities_w_types[db_entities_w_types['entity_type'].apply(lambda x: x in [f'DBpedia:{c}' for c in classes])]"
   ]
  },
  {
   "cell_type": "code",
   "execution_count": 22,
   "metadata": {},
   "outputs": [
    {
     "name": "stderr",
     "output_type": "stream",
     "text": [
      "C:\\Users\\gokce\\Anaconda3\\lib\\site-packages\\ipykernel_launcher.py:1: SettingWithCopyWarning: \n",
      "A value is trying to be set on a copy of a slice from a DataFrame.\n",
      "Try using .loc[row_indexer,col_indexer] = value instead\n",
      "\n",
      "See the caveats in the documentation: https://pandas.pydata.org/pandas-docs/stable/user_guide/indexing.html#returning-a-view-versus-a-copy\n",
      "  \"\"\"Entry point for launching an IPython kernel.\n"
     ]
    }
   ],
   "source": [
    "filtered_entities['UserName'] = filtered_entities['UserName'].apply(lambda x: x.replace('@', '').replace(' ', ''))"
   ]
  },
  {
   "cell_type": "code",
   "execution_count": 25,
   "metadata": {},
   "outputs": [],
   "source": [
    "filtered_entities_disjoint = filtered_entities.drop_duplicates(['UserName', 'entity_uri'], keep= 'last')"
   ]
  },
  {
   "cell_type": "code",
   "execution_count": 26,
   "metadata": {},
   "outputs": [
    {
     "data": {
      "text/html": [
       "<div>\n",
       "<style scoped>\n",
       "    .dataframe tbody tr th:only-of-type {\n",
       "        vertical-align: middle;\n",
       "    }\n",
       "\n",
       "    .dataframe tbody tr th {\n",
       "        vertical-align: top;\n",
       "    }\n",
       "\n",
       "    .dataframe thead th {\n",
       "        text-align: right;\n",
       "    }\n",
       "</style>\n",
       "<table border=\"1\" class=\"dataframe\">\n",
       "  <thead>\n",
       "    <tr style=\"text-align: right;\">\n",
       "      <th></th>\n",
       "      <th>UserName</th>\n",
       "      <th>db_ents_list</th>\n",
       "      <th>entity_uri</th>\n",
       "      <th>entity_type</th>\n",
       "    </tr>\n",
       "  </thead>\n",
       "  <tbody>\n",
       "    <tr>\n",
       "      <th>0</th>\n",
       "      <td>JoyceGarbaciak</td>\n",
       "      <td>[Kenosha County, DBPEDIA_ENT, http://dbpedia.o...</td>\n",
       "      <td>http://dbpedia.org/resource/Kenosha_County</td>\n",
       "      <td>DBpedia:PopulatedPlace</td>\n",
       "    </tr>\n",
       "    <tr>\n",
       "      <th>6</th>\n",
       "      <td>Loveon999</td>\n",
       "      <td>[Trump, DBPEDIA_ENT, http://dbpedia.org/resour...</td>\n",
       "      <td>http://dbpedia.org/resource/Donald_Trump</td>\n",
       "      <td>DBpedia:Person</td>\n",
       "    </tr>\n",
       "    <tr>\n",
       "      <th>6</th>\n",
       "      <td>Loveon999</td>\n",
       "      <td>[AZ, DBPEDIA_ENT, http://dbpedia.org/resource/...</td>\n",
       "      <td>http://dbpedia.org/resource/Arizona</td>\n",
       "      <td>DBpedia:PopulatedPlace</td>\n",
       "    </tr>\n",
       "    <tr>\n",
       "      <th>6</th>\n",
       "      <td>Loveon999</td>\n",
       "      <td>[NV, DBPEDIA_ENT, http://dbpedia.org/resource/...</td>\n",
       "      <td>http://dbpedia.org/resource/Nevada</td>\n",
       "      <td>DBpedia:PopulatedPlace</td>\n",
       "    </tr>\n",
       "    <tr>\n",
       "      <th>9</th>\n",
       "      <td>FCN2go</td>\n",
       "      <td>[Wisconsin, DBPEDIA_ENT, http://dbpedia.org/re...</td>\n",
       "      <td>http://dbpedia.org/resource/Wisconsin</td>\n",
       "      <td>DBpedia:PopulatedPlace</td>\n",
       "    </tr>\n",
       "    <tr>\n",
       "      <th>...</th>\n",
       "      <td>...</td>\n",
       "      <td>...</td>\n",
       "      <td>...</td>\n",
       "      <td>...</td>\n",
       "    </tr>\n",
       "    <tr>\n",
       "      <th>231695</th>\n",
       "      <td>ElliAdventurer</td>\n",
       "      <td>[tricky, DBPEDIA_ENT, http://dbpedia.org/resou...</td>\n",
       "      <td>http://dbpedia.org/resource/Tricky_Stewart</td>\n",
       "      <td>DBpedia:Person</td>\n",
       "    </tr>\n",
       "    <tr>\n",
       "      <th>231697</th>\n",
       "      <td>inside_outfield</td>\n",
       "      <td>[Trump, DBPEDIA_ENT, http://dbpedia.org/resour...</td>\n",
       "      <td>http://dbpedia.org/resource/Donald_Trump</td>\n",
       "      <td>DBpedia:Person</td>\n",
       "    </tr>\n",
       "    <tr>\n",
       "      <th>231709</th>\n",
       "      <td>HunderthMonkey</td>\n",
       "      <td>[Joseph, DBPEDIA_ENT, http://dbpedia.org/resou...</td>\n",
       "      <td>http://dbpedia.org/resource/Saint_Joseph</td>\n",
       "      <td>DBpedia:Person</td>\n",
       "    </tr>\n",
       "    <tr>\n",
       "      <th>231709</th>\n",
       "      <td>HunderthMonkey</td>\n",
       "      <td>[Covington, DBPEDIA_ENT, http://dbpedia.org/re...</td>\n",
       "      <td>http://dbpedia.org/resource/Robert_Covington</td>\n",
       "      <td>DBpedia:Person</td>\n",
       "    </tr>\n",
       "    <tr>\n",
       "      <th>231709</th>\n",
       "      <td>HunderthMonkey</td>\n",
       "      <td>[Vietnam, DBPEDIA_ENT, http://dbpedia.org/reso...</td>\n",
       "      <td>http://dbpedia.org/resource/Vietnam</td>\n",
       "      <td>DBpedia:PopulatedPlace</td>\n",
       "    </tr>\n",
       "  </tbody>\n",
       "</table>\n",
       "<p>63938 rows × 4 columns</p>\n",
       "</div>"
      ],
      "text/plain": [
       "               UserName                                       db_ents_list  \\\n",
       "0        JoyceGarbaciak  [Kenosha County, DBPEDIA_ENT, http://dbpedia.o...   \n",
       "6             Loveon999  [Trump, DBPEDIA_ENT, http://dbpedia.org/resour...   \n",
       "6             Loveon999  [AZ, DBPEDIA_ENT, http://dbpedia.org/resource/...   \n",
       "6             Loveon999  [NV, DBPEDIA_ENT, http://dbpedia.org/resource/...   \n",
       "9                FCN2go  [Wisconsin, DBPEDIA_ENT, http://dbpedia.org/re...   \n",
       "...                 ...                                                ...   \n",
       "231695   ElliAdventurer  [tricky, DBPEDIA_ENT, http://dbpedia.org/resou...   \n",
       "231697  inside_outfield  [Trump, DBPEDIA_ENT, http://dbpedia.org/resour...   \n",
       "231709   HunderthMonkey  [Joseph, DBPEDIA_ENT, http://dbpedia.org/resou...   \n",
       "231709   HunderthMonkey  [Covington, DBPEDIA_ENT, http://dbpedia.org/re...   \n",
       "231709   HunderthMonkey  [Vietnam, DBPEDIA_ENT, http://dbpedia.org/reso...   \n",
       "\n",
       "                                          entity_uri             entity_type  \n",
       "0         http://dbpedia.org/resource/Kenosha_County  DBpedia:PopulatedPlace  \n",
       "6           http://dbpedia.org/resource/Donald_Trump          DBpedia:Person  \n",
       "6                http://dbpedia.org/resource/Arizona  DBpedia:PopulatedPlace  \n",
       "6                 http://dbpedia.org/resource/Nevada  DBpedia:PopulatedPlace  \n",
       "9              http://dbpedia.org/resource/Wisconsin  DBpedia:PopulatedPlace  \n",
       "...                                              ...                     ...  \n",
       "231695    http://dbpedia.org/resource/Tricky_Stewart          DBpedia:Person  \n",
       "231697      http://dbpedia.org/resource/Donald_Trump          DBpedia:Person  \n",
       "231709      http://dbpedia.org/resource/Saint_Joseph          DBpedia:Person  \n",
       "231709  http://dbpedia.org/resource/Robert_Covington          DBpedia:Person  \n",
       "231709           http://dbpedia.org/resource/Vietnam  DBpedia:PopulatedPlace  \n",
       "\n",
       "[63938 rows x 4 columns]"
      ]
     },
     "execution_count": 26,
     "metadata": {},
     "output_type": "execute_result"
    }
   ],
   "source": [
    "filtered_entities_disjoint"
   ]
  },
  {
   "cell_type": "code",
   "execution_count": 28,
   "metadata": {},
   "outputs": [
    {
     "name": "stderr",
     "output_type": "stream",
     "text": [
      "C:\\Users\\gokce\\Anaconda3\\lib\\site-packages\\pandas\\core\\frame.py:4446: SettingWithCopyWarning: \n",
      "A value is trying to be set on a copy of a slice from a DataFrame\n",
      "\n",
      "See the caveats in the documentation: https://pandas.pydata.org/pandas-docs/stable/user_guide/indexing.html#returning-a-view-versus-a-copy\n",
      "  errors=errors,\n"
     ]
    }
   ],
   "source": [
    "filtered_entities_disjoint.rename(columns={'UserName': 'user', 'entity_type': 'interest type', 'entity_uri': 'interest'}, inplace=True)"
   ]
  },
  {
   "cell_type": "code",
   "execution_count": 31,
   "metadata": {},
   "outputs": [
    {
     "name": "stderr",
     "output_type": "stream",
     "text": [
      "C:\\Users\\gokce\\Anaconda3\\lib\\site-packages\\ipykernel_launcher.py:1: SettingWithCopyWarning: \n",
      "A value is trying to be set on a copy of a slice from a DataFrame.\n",
      "Try using .loc[row_indexer,col_indexer] = value instead\n",
      "\n",
      "See the caveats in the documentation: https://pandas.pydata.org/pandas-docs/stable/user_guide/indexing.html#returning-a-view-versus-a-copy\n",
      "  \"\"\"Entry point for launching an IPython kernel.\n"
     ]
    }
   ],
   "source": [
    "filtered_entities_disjoint['interest type'] = filtered_entities_disjoint['interest type'].apply(lambda x: x.split(':')[-1])"
   ]
  },
  {
   "cell_type": "code",
   "execution_count": 32,
   "metadata": {
    "id": "xuPy0t0O1tfZ"
   },
   "outputs": [],
   "source": [
    "filtered_entities_disjoint[[\"user\",\"interest type\", \"interest\"]].to_csv('../data/entities.csv')"
   ]
  },
  {
   "cell_type": "code",
   "execution_count": 33,
   "metadata": {},
   "outputs": [
    {
     "data": {
      "text/html": [
       "<div>\n",
       "<style scoped>\n",
       "    .dataframe tbody tr th:only-of-type {\n",
       "        vertical-align: middle;\n",
       "    }\n",
       "\n",
       "    .dataframe tbody tr th {\n",
       "        vertical-align: top;\n",
       "    }\n",
       "\n",
       "    .dataframe thead th {\n",
       "        text-align: right;\n",
       "    }\n",
       "</style>\n",
       "<table border=\"1\" class=\"dataframe\">\n",
       "  <thead>\n",
       "    <tr style=\"text-align: right;\">\n",
       "      <th></th>\n",
       "      <th>user</th>\n",
       "      <th>db_ents_list</th>\n",
       "      <th>interest</th>\n",
       "      <th>interest type</th>\n",
       "    </tr>\n",
       "  </thead>\n",
       "  <tbody>\n",
       "    <tr>\n",
       "      <th>0</th>\n",
       "      <td>JoyceGarbaciak</td>\n",
       "      <td>[Kenosha County, DBPEDIA_ENT, http://dbpedia.o...</td>\n",
       "      <td>http://dbpedia.org/resource/Kenosha_County</td>\n",
       "      <td>PopulatedPlace</td>\n",
       "    </tr>\n",
       "    <tr>\n",
       "      <th>6</th>\n",
       "      <td>Loveon999</td>\n",
       "      <td>[Trump, DBPEDIA_ENT, http://dbpedia.org/resour...</td>\n",
       "      <td>http://dbpedia.org/resource/Donald_Trump</td>\n",
       "      <td>Person</td>\n",
       "    </tr>\n",
       "    <tr>\n",
       "      <th>6</th>\n",
       "      <td>Loveon999</td>\n",
       "      <td>[AZ, DBPEDIA_ENT, http://dbpedia.org/resource/...</td>\n",
       "      <td>http://dbpedia.org/resource/Arizona</td>\n",
       "      <td>PopulatedPlace</td>\n",
       "    </tr>\n",
       "    <tr>\n",
       "      <th>6</th>\n",
       "      <td>Loveon999</td>\n",
       "      <td>[NV, DBPEDIA_ENT, http://dbpedia.org/resource/...</td>\n",
       "      <td>http://dbpedia.org/resource/Nevada</td>\n",
       "      <td>PopulatedPlace</td>\n",
       "    </tr>\n",
       "    <tr>\n",
       "      <th>9</th>\n",
       "      <td>FCN2go</td>\n",
       "      <td>[Wisconsin, DBPEDIA_ENT, http://dbpedia.org/re...</td>\n",
       "      <td>http://dbpedia.org/resource/Wisconsin</td>\n",
       "      <td>PopulatedPlace</td>\n",
       "    </tr>\n",
       "    <tr>\n",
       "      <th>...</th>\n",
       "      <td>...</td>\n",
       "      <td>...</td>\n",
       "      <td>...</td>\n",
       "      <td>...</td>\n",
       "    </tr>\n",
       "    <tr>\n",
       "      <th>231695</th>\n",
       "      <td>ElliAdventurer</td>\n",
       "      <td>[tricky, DBPEDIA_ENT, http://dbpedia.org/resou...</td>\n",
       "      <td>http://dbpedia.org/resource/Tricky_Stewart</td>\n",
       "      <td>Person</td>\n",
       "    </tr>\n",
       "    <tr>\n",
       "      <th>231697</th>\n",
       "      <td>inside_outfield</td>\n",
       "      <td>[Trump, DBPEDIA_ENT, http://dbpedia.org/resour...</td>\n",
       "      <td>http://dbpedia.org/resource/Donald_Trump</td>\n",
       "      <td>Person</td>\n",
       "    </tr>\n",
       "    <tr>\n",
       "      <th>231709</th>\n",
       "      <td>HunderthMonkey</td>\n",
       "      <td>[Joseph, DBPEDIA_ENT, http://dbpedia.org/resou...</td>\n",
       "      <td>http://dbpedia.org/resource/Saint_Joseph</td>\n",
       "      <td>Person</td>\n",
       "    </tr>\n",
       "    <tr>\n",
       "      <th>231709</th>\n",
       "      <td>HunderthMonkey</td>\n",
       "      <td>[Covington, DBPEDIA_ENT, http://dbpedia.org/re...</td>\n",
       "      <td>http://dbpedia.org/resource/Robert_Covington</td>\n",
       "      <td>Person</td>\n",
       "    </tr>\n",
       "    <tr>\n",
       "      <th>231709</th>\n",
       "      <td>HunderthMonkey</td>\n",
       "      <td>[Vietnam, DBPEDIA_ENT, http://dbpedia.org/reso...</td>\n",
       "      <td>http://dbpedia.org/resource/Vietnam</td>\n",
       "      <td>PopulatedPlace</td>\n",
       "    </tr>\n",
       "  </tbody>\n",
       "</table>\n",
       "<p>63938 rows × 4 columns</p>\n",
       "</div>"
      ],
      "text/plain": [
       "                   user                                       db_ents_list  \\\n",
       "0        JoyceGarbaciak  [Kenosha County, DBPEDIA_ENT, http://dbpedia.o...   \n",
       "6             Loveon999  [Trump, DBPEDIA_ENT, http://dbpedia.org/resour...   \n",
       "6             Loveon999  [AZ, DBPEDIA_ENT, http://dbpedia.org/resource/...   \n",
       "6             Loveon999  [NV, DBPEDIA_ENT, http://dbpedia.org/resource/...   \n",
       "9                FCN2go  [Wisconsin, DBPEDIA_ENT, http://dbpedia.org/re...   \n",
       "...                 ...                                                ...   \n",
       "231695   ElliAdventurer  [tricky, DBPEDIA_ENT, http://dbpedia.org/resou...   \n",
       "231697  inside_outfield  [Trump, DBPEDIA_ENT, http://dbpedia.org/resour...   \n",
       "231709   HunderthMonkey  [Joseph, DBPEDIA_ENT, http://dbpedia.org/resou...   \n",
       "231709   HunderthMonkey  [Covington, DBPEDIA_ENT, http://dbpedia.org/re...   \n",
       "231709   HunderthMonkey  [Vietnam, DBPEDIA_ENT, http://dbpedia.org/reso...   \n",
       "\n",
       "                                            interest   interest type  \n",
       "0         http://dbpedia.org/resource/Kenosha_County  PopulatedPlace  \n",
       "6           http://dbpedia.org/resource/Donald_Trump          Person  \n",
       "6                http://dbpedia.org/resource/Arizona  PopulatedPlace  \n",
       "6                 http://dbpedia.org/resource/Nevada  PopulatedPlace  \n",
       "9              http://dbpedia.org/resource/Wisconsin  PopulatedPlace  \n",
       "...                                              ...             ...  \n",
       "231695    http://dbpedia.org/resource/Tricky_Stewart          Person  \n",
       "231697      http://dbpedia.org/resource/Donald_Trump          Person  \n",
       "231709      http://dbpedia.org/resource/Saint_Joseph          Person  \n",
       "231709  http://dbpedia.org/resource/Robert_Covington          Person  \n",
       "231709           http://dbpedia.org/resource/Vietnam  PopulatedPlace  \n",
       "\n",
       "[63938 rows x 4 columns]"
      ]
     },
     "execution_count": 33,
     "metadata": {},
     "output_type": "execute_result"
    }
   ],
   "source": [
    "filtered_entities_disjoint"
   ]
  },
  {
   "cell_type": "code",
   "execution_count": null,
   "metadata": {},
   "outputs": [],
   "source": []
  }
 ],
 "metadata": {
  "colab": {
   "name": "TripletEntities.ipynb",
   "provenance": []
  },
  "kernelspec": {
   "display_name": "Python 3",
   "language": "python",
   "name": "python3"
  },
  "language_info": {
   "codemirror_mode": {
    "name": "ipython",
    "version": 3
   },
   "file_extension": ".py",
   "mimetype": "text/x-python",
   "name": "python",
   "nbconvert_exporter": "python",
   "pygments_lexer": "ipython3",
   "version": "3.7.3"
  }
 },
 "nbformat": 4,
 "nbformat_minor": 1
}
