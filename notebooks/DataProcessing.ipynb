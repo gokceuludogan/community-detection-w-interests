{
 "cells": [
  {
   "cell_type": "code",
   "execution_count": null,
   "id": "beautiful-cricket",
   "metadata": {},
   "outputs": [],
   "source": [
    "import json\n",
    "import pandas as pd\n",
    "from tqdm import tqdm\n",
    "from pathlib import Path \n",
    "from ast import literal_eval"
   ]
  },
  {
   "cell_type": "markdown",
   "id": "decreased-python",
   "metadata": {},
   "source": [
    "## Tweet Collection\n",
    "Tweets are collected using two methods: \n",
    "1. Twitter REST API using [Tweepy](https://github.com/tweepy/tweepy)\n",
    "2. Scraping using [Scweet](https://github.com/Altimis/Scweet)"
   ]
  },
  {
   "cell_type": "markdown",
   "id": "orange-sacrifice",
   "metadata": {},
   "source": [
    "### Twitter API\n",
    "Twitter API only allows to seach tweets from the last week. The tweets between Dec 3rd-10th are collected with the API. Each tweet is saved into a file named tweet_id.json under after_dec3/. \n",
    "Below, the downloaded tweets are collected and exported as a single csv file."
   ]
  },
  {
   "cell_type": "code",
   "execution_count": null,
   "id": "amended-friday",
   "metadata": {},
   "outputs": [],
   "source": [
    "tweets = []\n",
    "user_fields = ['id_str', 'screen_name', 'followers_count', 'friends_count', 'favourites_count', 'created_at']\n",
    "data_dir = Path('../data/after_dec3')\n",
    "for file in tqdm(data_dir.iterdir()):\n",
    "    if file.is_file() and file.name.endswith('json'):\n",
    "        tweet_data = json.loads(open(file).read())\n",
    "        filtered = {k:v for k, v in tweet_data.items() if k != 'user'}\n",
    "        user_data = {f'user_{item}': tweet_data['user'][item] for item in user_fields}\n",
    "        tweets.append({**filtered, **user_data})\n",
    "pd.DataFrame(tweets).to_csv(data_dir.parent / 'tweets_after_dec3.csv')"
   ]
  },
  {
   "cell_type": "markdown",
   "id": "acting-reserve",
   "metadata": {},
   "source": [
    "### Scraping\n",
    "\n",
    "With scraping, we collected tweets from October 25th to December 3rd. Scraping is performed for each day and daily tweets are saved as seperate csv files under before_dec3/.\n",
    "Below, the daily tweets are merged into a dataframe. \n"
   ]
  },
  {
   "cell_type": "code",
   "execution_count": null,
   "id": "approximate-baker",
   "metadata": {},
   "outputs": [],
   "source": [
    "tweets = []\n",
    "data_dir = Path('../data/before_dec3')\n",
    "for file in tqdm(data_dir.iterdir()):\n",
    "    if file.is_file() and file.name.startswith('tweets_scweet'):\n",
    "        tweets.append(pd.read_csv(file))\n",
    "\n",
    "pd.concat(tweets).to_csv(data_dir.parent / 'tweets_till_dec3.csv')"
   ]
  },
  {
   "cell_type": "markdown",
   "id": "persistent-joint",
   "metadata": {},
   "source": [
    "## Merge Tweets\n",
    "\n",
    "The files containing tweets are standardized and merged. "
   ]
  },
  {
   "cell_type": "code",
   "execution_count": null,
   "id": "demographic-skirt",
   "metadata": {},
   "outputs": [],
   "source": [
    "data_dir = Path('../data')\n",
    "df1_cols = {'UserScreenName': 'UserName', 'Embedded_text': 'TweetText', 'Timestamp': 'Timestamp', 'Tweet URL': 'Tweet URL'}\n",
    "df2_cols = {'created_at': 'Timestamp', 'id_str': 'TweetID', 'full_text': 'TweetText', 'entities': 'Entities', 'user_id_str': 'UserID', 'user_screen_name': 'UserName'}\n",
    "\n",
    "df1 = pd.read_csv(data_dir / 'tweets_till_dec3.csv')\n",
    "df1 = df1.rename(columns=df1_cols)[df1_cols.values()].assign(collector='scraper')\n",
    "\n",
    "df2 = pd.read_csv(data_dir / 'tweets_after_dec3.csv')\n",
    "df2 = df2.rename(columns=df2_cols)[df2_cols.values()].assign(collector='api')\n",
    "\n",
    "all_tweets = pd.DataFrame(df1.to_dict('records') + df2.to_dict('records'))\n",
    "all_tweets.to_csv(data_dir / 'tweets.csv')"
   ]
  }
 ],
 "metadata": {
  "kernelspec": {
   "display_name": "Python 3",
   "language": "python",
   "name": "python3"
  },
  "language_info": {
   "codemirror_mode": {
    "name": "ipython",
    "version": 3
   },
   "file_extension": ".py",
   "mimetype": "text/x-python",
   "name": "python",
   "nbconvert_exporter": "python",
   "pygments_lexer": "ipython3",
   "version": "3.7.3"
  }
 },
 "nbformat": 4,
 "nbformat_minor": 5
}
