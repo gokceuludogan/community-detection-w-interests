{
 "cells": [
  {
   "cell_type": "code",
   "execution_count": 44,
   "id": "worthy-claim",
   "metadata": {},
   "outputs": [],
   "source": [
    "import pandas as pd\n",
    "from SPARQLWrapper import SPARQLWrapper, JSON\n",
    "from tqdm import tqdm\n",
    "\n",
    "tqdm.pandas()\n",
    "\n",
    "sparql = SPARQLWrapper(\"https://dbpedia.org/sparql\")"
   ]
  },
  {
   "cell_type": "code",
   "execution_count": 150,
   "id": "mediterranean-rating",
   "metadata": {},
   "outputs": [],
   "source": [
    "ask_query = \"\"\"\n",
    "@prefix dbr:    <http://dbpedia.org/resource/> .\n",
    "\n",
    "ASK  {{dbr:{} a owl:Thing. }}\n",
    "\"\"\"\n",
    "\n",
    "select_query1 = \"\"\"\n",
    "@prefix dbr:    <http://dbpedia.org/resource/> .\n",
    "\n",
    "\n",
    "SELECT DISTINCT ?label WHERE {{\n",
    "    {{ \n",
    "          dbr:{} <http://purl.org/linguistics/gold/hypernym> ?label. \n",
    "          ?label a owl:Thing .\n",
    "    }}\n",
    "\n",
    "}}\n",
    "\"\"\"\n",
    "\n",
    "select_query2 = \"\"\"\n",
    "@prefix dbr:    <http://dbpedia.org/resource/> .\n",
    "\n",
    "\n",
    "SELECT DISTINCT ?label WHERE {{\n",
    "    {{ \n",
    "    \n",
    "          dbr:{} rdf:type ?class. \n",
    "          ?class rdfs:subClassOf* ?label .\n",
    "          ?label a owl:Class.\n",
    "          FILTER(?class != ?label) . \n",
    "    }}\n",
    "}}\n",
    "\"\"\""
   ]
  },
  {
   "cell_type": "code",
   "execution_count": 151,
   "id": "becoming-present",
   "metadata": {},
   "outputs": [],
   "source": [
    "def query_dbpedia(query):\n",
    "    sparql.setQuery(query)\n",
    "    sparql.setReturnFormat(JSON)\n",
    "    results = sparql.query().convert()\n",
    "    return results\n",
    "    \n",
    "def query_item(item):\n",
    "    try:\n",
    "        result = query_dbpedia(ask_query.format(item))\n",
    "        if result['boolean'] == 'true':\n",
    "            return [f'http://dbpedia.org/resource/{item}']\n",
    "        else:\n",
    "            results = query_dbpedia(select_query1.format(item))\n",
    "            df = pd.json_normalize(results['results']['bindings'])\n",
    "            if df.shape[0] > 0:\n",
    "                return df['label.value'].tolist()\n",
    "            else:\n",
    "                results = query_dbpedia(select_query2.format(item))\n",
    "                df = pd.json_normalize(results['results']['bindings'])\n",
    "                if df.shape[0] > 0:\n",
    "                    return df['label.value'].tolist()\n",
    "    except Exception as e:\n",
    "        print(item, e)\n",
    "        return []"
   ]
  },
  {
   "cell_type": "code",
   "execution_count": 62,
   "id": "representative-colombia",
   "metadata": {},
   "outputs": [],
   "source": [
    "def replace_characters(string):\n",
    "    for ch in [\"(\", \")\", \"'\", \"_\"]:\n",
    "        string = string.replace(ch, f'\\\\{ch}')\n",
    "    return string"
   ]
  },
  {
   "cell_type": "code",
   "execution_count": 116,
   "id": "female-hypothesis",
   "metadata": {},
   "outputs": [],
   "source": [
    "resources = pd.read_csv('../data/topics.csv', index_col=False)\n",
    "resources['name'] = resources['uri'].apply(lambda x: x.split('/')[-1])\n",
    "resources['name'] = resources['name'].apply(lambda x: replace_characters(x))"
   ]
  },
  {
   "cell_type": "code",
   "execution_count": 117,
   "id": "bulgarian-handle",
   "metadata": {},
   "outputs": [
    {
     "data": {
      "text/html": [
       "<div>\n",
       "<style scoped>\n",
       "    .dataframe tbody tr th:only-of-type {\n",
       "        vertical-align: middle;\n",
       "    }\n",
       "\n",
       "    .dataframe tbody tr th {\n",
       "        vertical-align: top;\n",
       "    }\n",
       "\n",
       "    .dataframe thead th {\n",
       "        text-align: right;\n",
       "    }\n",
       "</style>\n",
       "<table border=\"1\" class=\"dataframe\">\n",
       "  <thead>\n",
       "    <tr style=\"text-align: right;\">\n",
       "      <th></th>\n",
       "      <th>uri</th>\n",
       "      <th>count</th>\n",
       "      <th>name</th>\n",
       "    </tr>\n",
       "  </thead>\n",
       "  <tbody>\n",
       "    <tr>\n",
       "      <th>0</th>\n",
       "      <td>http://dbpedia.org/resource/White_supremacy</td>\n",
       "      <td>8664</td>\n",
       "      <td>White\\_supremacy</td>\n",
       "    </tr>\n",
       "    <tr>\n",
       "      <th>1</th>\n",
       "      <td>http://dbpedia.org/resource/VAX</td>\n",
       "      <td>6656</td>\n",
       "      <td>VAX</td>\n",
       "    </tr>\n",
       "    <tr>\n",
       "      <th>2</th>\n",
       "      <td>http://dbpedia.org/resource/Hurricane_Floyd</td>\n",
       "      <td>5319</td>\n",
       "      <td>Hurricane\\_Floyd</td>\n",
       "    </tr>\n",
       "    <tr>\n",
       "      <th>3</th>\n",
       "      <td>http://dbpedia.org/resource/Self-defense</td>\n",
       "      <td>3558</td>\n",
       "      <td>Self-defense</td>\n",
       "    </tr>\n",
       "    <tr>\n",
       "      <th>4</th>\n",
       "      <td>http://dbpedia.org/resource/Kenosha_Comets</td>\n",
       "      <td>3348</td>\n",
       "      <td>Kenosha\\_Comets</td>\n",
       "    </tr>\n",
       "    <tr>\n",
       "      <th>...</th>\n",
       "      <td>...</td>\n",
       "      <td>...</td>\n",
       "      <td>...</td>\n",
       "    </tr>\n",
       "    <tr>\n",
       "      <th>1006</th>\n",
       "      <td>http://dbpedia.org/resource/Rosa_Brooks</td>\n",
       "      <td>10</td>\n",
       "      <td>Rosa\\_Brooks</td>\n",
       "    </tr>\n",
       "    <tr>\n",
       "      <th>1007</th>\n",
       "      <td>http://dbpedia.org/resource/Imperialism</td>\n",
       "      <td>10</td>\n",
       "      <td>Imperialism</td>\n",
       "    </tr>\n",
       "    <tr>\n",
       "      <th>1008</th>\n",
       "      <td>http://dbpedia.org/resource/Clapping</td>\n",
       "      <td>10</td>\n",
       "      <td>Clapping</td>\n",
       "    </tr>\n",
       "    <tr>\n",
       "      <th>1009</th>\n",
       "      <td>http://dbpedia.org/resource/House_arrest</td>\n",
       "      <td>10</td>\n",
       "      <td>House\\_arrest</td>\n",
       "    </tr>\n",
       "    <tr>\n",
       "      <th>1010</th>\n",
       "      <td>http://dbpedia.org/resource/Americano_Futebol_...</td>\n",
       "      <td>10</td>\n",
       "      <td>Americano\\_Futebol\\_Clube</td>\n",
       "    </tr>\n",
       "  </tbody>\n",
       "</table>\n",
       "<p>1011 rows × 3 columns</p>\n",
       "</div>"
      ],
      "text/plain": [
       "                                                    uri  count  \\\n",
       "0           http://dbpedia.org/resource/White_supremacy   8664   \n",
       "1                       http://dbpedia.org/resource/VAX   6656   \n",
       "2           http://dbpedia.org/resource/Hurricane_Floyd   5319   \n",
       "3              http://dbpedia.org/resource/Self-defense   3558   \n",
       "4            http://dbpedia.org/resource/Kenosha_Comets   3348   \n",
       "...                                                 ...    ...   \n",
       "1006            http://dbpedia.org/resource/Rosa_Brooks     10   \n",
       "1007            http://dbpedia.org/resource/Imperialism     10   \n",
       "1008               http://dbpedia.org/resource/Clapping     10   \n",
       "1009           http://dbpedia.org/resource/House_arrest     10   \n",
       "1010  http://dbpedia.org/resource/Americano_Futebol_...     10   \n",
       "\n",
       "                           name  \n",
       "0              White\\_supremacy  \n",
       "1                           VAX  \n",
       "2              Hurricane\\_Floyd  \n",
       "3                  Self-defense  \n",
       "4               Kenosha\\_Comets  \n",
       "...                         ...  \n",
       "1006               Rosa\\_Brooks  \n",
       "1007                Imperialism  \n",
       "1008                   Clapping  \n",
       "1009              House\\_arrest  \n",
       "1010  Americano\\_Futebol\\_Clube  \n",
       "\n",
       "[1011 rows x 3 columns]"
      ]
     },
     "execution_count": 117,
     "metadata": {},
     "output_type": "execute_result"
    }
   ],
   "source": [
    "resources_to_map = resources[resources['count'] >= 10]\n",
    "resources_to_map"
   ]
  },
  {
   "cell_type": "code",
   "execution_count": 118,
   "id": "public-wales",
   "metadata": {},
   "outputs": [
    {
     "name": "stderr",
     "output_type": "stream",
     "text": [
      " 33%|██████████████████████████                                                     | 333/1011 [04:34<06:46,  1.67it/s]"
     ]
    },
    {
     "name": "stdout",
     "output_type": "stream",
     "text": [
      "Darrell\\_Wallace\\_Jr. QueryBadFormed: a bad request has been sent to the endpoint, probably the sparql query is bad formed. \n",
      "\n",
      "Response:\n",
      "b\"Virtuoso 37000 Error SP030: SPARQL compiler, line 5: syntax error at '.' before 'a'\\n\\nSPARQL query:\\n#output-format:application/sparql-results+json\\n\\n@prefix dbr:    <http://dbpedia.org/resource/> .\\n\\nASK  {dbr:Darrell\\\\_Wallace\\\\_Jr. a owl:Thing. }\\n\"\n"
     ]
    },
    {
     "name": "stderr",
     "output_type": "stream",
     "text": [
      " 91%|████████████████████████████████████████████████████████████████████████▎      | 925/1011 [12:39<01:03,  1.36it/s]"
     ]
    },
    {
     "name": "stdout",
     "output_type": "stream",
     "text": [
      ".223\\_Remington QueryBadFormed: a bad request has been sent to the endpoint, probably the sparql query is bad formed. \n",
      "\n",
      "Response:\n",
      "b\"Virtuoso 37000 Error SP030: SPARQL compiler, line 0: Bad character '\\\\' (0x5c) in SPARQL expression at '\\\\'\\n\\nSPARQL query:\\n#output-format:application/sparql-results+json\\n\\n@prefix dbr:    <http://dbpedia.org/resource/> .\\n\\nASK  {dbr:.223\\\\_Remington a owl:Thing. }\\n\"\n"
     ]
    },
    {
     "name": "stderr",
     "output_type": "stream",
     "text": [
      " 97%|████████████████████████████████████████████████████████████████████████████▎  | 977/1011 [13:22<00:21,  1.59it/s]"
     ]
    },
    {
     "name": "stdout",
     "output_type": "stream",
     "text": [
      "Orange\\_S.A. QueryBadFormed: a bad request has been sent to the endpoint, probably the sparql query is bad formed. \n",
      "\n",
      "Response:\n",
      "b\"Virtuoso 37000 Error SP030: SPARQL compiler, line 5: syntax error at '.' before 'a'\\n\\nSPARQL query:\\n#output-format:application/sparql-results+json\\n\\n@prefix dbr:    <http://dbpedia.org/resource/> .\\n\\nASK  {dbr:Orange\\\\_S.A. a owl:Thing. }\\n\"\n"
     ]
    },
    {
     "name": "stderr",
     "output_type": "stream",
     "text": [
      "100%|██████████████████████████████████████████████████████████████████████████████| 1011/1011 [13:48<00:00,  1.22it/s]\n",
      "C:\\Users\\gokce\\Anaconda3\\lib\\site-packages\\ipykernel_launcher.py:1: SettingWithCopyWarning: \n",
      "A value is trying to be set on a copy of a slice from a DataFrame.\n",
      "Try using .loc[row_indexer,col_indexer] = value instead\n",
      "\n",
      "See the caveats in the documentation: https://pandas.pydata.org/pandas-docs/stable/user_guide/indexing.html#returning-a-view-versus-a-copy\n",
      "  \"\"\"Entry point for launching an IPython kernel.\n"
     ]
    }
   ],
   "source": [
    "resources_to_map['uri_list'] = resources_to_map['name'].progress_apply(query_item)"
   ]
  },
  {
   "cell_type": "code",
   "execution_count": 127,
   "id": "popular-steering",
   "metadata": {},
   "outputs": [
    {
     "data": {
      "text/html": [
       "<div>\n",
       "<style scoped>\n",
       "    .dataframe tbody tr th:only-of-type {\n",
       "        vertical-align: middle;\n",
       "    }\n",
       "\n",
       "    .dataframe tbody tr th {\n",
       "        vertical-align: top;\n",
       "    }\n",
       "\n",
       "    .dataframe thead th {\n",
       "        text-align: right;\n",
       "    }\n",
       "</style>\n",
       "<table border=\"1\" class=\"dataframe\">\n",
       "  <thead>\n",
       "    <tr style=\"text-align: right;\">\n",
       "      <th></th>\n",
       "      <th>uri</th>\n",
       "      <th>count</th>\n",
       "      <th>name</th>\n",
       "      <th>uri_list</th>\n",
       "    </tr>\n",
       "  </thead>\n",
       "  <tbody>\n",
       "    <tr>\n",
       "      <th>0</th>\n",
       "      <td>http://dbpedia.org/resource/White_supremacy</td>\n",
       "      <td>8664</td>\n",
       "      <td>White\\_supremacy</td>\n",
       "      <td>[http://www.w3.org/2002/07/owl#Thing, http://d...</td>\n",
       "    </tr>\n",
       "    <tr>\n",
       "      <th>1</th>\n",
       "      <td>http://dbpedia.org/resource/VAX</td>\n",
       "      <td>6656</td>\n",
       "      <td>VAX</td>\n",
       "      <td>[http://www.w3.org/2002/07/owl#Thing, http://d...</td>\n",
       "    </tr>\n",
       "    <tr>\n",
       "      <th>2</th>\n",
       "      <td>http://dbpedia.org/resource/Hurricane_Floyd</td>\n",
       "      <td>5319</td>\n",
       "      <td>Hurricane\\_Floyd</td>\n",
       "      <td>None</td>\n",
       "    </tr>\n",
       "    <tr>\n",
       "      <th>3</th>\n",
       "      <td>http://dbpedia.org/resource/Self-defense</td>\n",
       "      <td>3558</td>\n",
       "      <td>Self-defense</td>\n",
       "      <td>None</td>\n",
       "    </tr>\n",
       "    <tr>\n",
       "      <th>4</th>\n",
       "      <td>http://dbpedia.org/resource/Kenosha_Comets</td>\n",
       "      <td>3348</td>\n",
       "      <td>Kenosha\\_Comets</td>\n",
       "      <td>[http://www.w3.org/2002/07/owl#Thing, http://d...</td>\n",
       "    </tr>\n",
       "    <tr>\n",
       "      <th>...</th>\n",
       "      <td>...</td>\n",
       "      <td>...</td>\n",
       "      <td>...</td>\n",
       "      <td>...</td>\n",
       "    </tr>\n",
       "    <tr>\n",
       "      <th>1006</th>\n",
       "      <td>http://dbpedia.org/resource/Rosa_Brooks</td>\n",
       "      <td>10</td>\n",
       "      <td>Rosa\\_Brooks</td>\n",
       "      <td>[http://dbpedia.org/resource/Professor]</td>\n",
       "    </tr>\n",
       "    <tr>\n",
       "      <th>1007</th>\n",
       "      <td>http://dbpedia.org/resource/Imperialism</td>\n",
       "      <td>10</td>\n",
       "      <td>Imperialism</td>\n",
       "      <td>[http://dbpedia.org/resource/Advocacy]</td>\n",
       "    </tr>\n",
       "    <tr>\n",
       "      <th>1008</th>\n",
       "      <td>http://dbpedia.org/resource/Clapping</td>\n",
       "      <td>10</td>\n",
       "      <td>Clapping</td>\n",
       "      <td>[http://dbpedia.org/resource/Sound]</td>\n",
       "    </tr>\n",
       "    <tr>\n",
       "      <th>1009</th>\n",
       "      <td>http://dbpedia.org/resource/House_arrest</td>\n",
       "      <td>10</td>\n",
       "      <td>House\\_arrest</td>\n",
       "      <td>[http://www.w3.org/2002/07/owl#Thing, http://d...</td>\n",
       "    </tr>\n",
       "    <tr>\n",
       "      <th>1010</th>\n",
       "      <td>http://dbpedia.org/resource/Americano_Futebol_...</td>\n",
       "      <td>10</td>\n",
       "      <td>Americano\\_Futebol\\_Clube</td>\n",
       "      <td>[http://www.w3.org/2002/07/owl#Thing, http://d...</td>\n",
       "    </tr>\n",
       "  </tbody>\n",
       "</table>\n",
       "<p>1011 rows × 4 columns</p>\n",
       "</div>"
      ],
      "text/plain": [
       "                                                    uri  count  \\\n",
       "0           http://dbpedia.org/resource/White_supremacy   8664   \n",
       "1                       http://dbpedia.org/resource/VAX   6656   \n",
       "2           http://dbpedia.org/resource/Hurricane_Floyd   5319   \n",
       "3              http://dbpedia.org/resource/Self-defense   3558   \n",
       "4            http://dbpedia.org/resource/Kenosha_Comets   3348   \n",
       "...                                                 ...    ...   \n",
       "1006            http://dbpedia.org/resource/Rosa_Brooks     10   \n",
       "1007            http://dbpedia.org/resource/Imperialism     10   \n",
       "1008               http://dbpedia.org/resource/Clapping     10   \n",
       "1009           http://dbpedia.org/resource/House_arrest     10   \n",
       "1010  http://dbpedia.org/resource/Americano_Futebol_...     10   \n",
       "\n",
       "                           name  \\\n",
       "0              White\\_supremacy   \n",
       "1                           VAX   \n",
       "2              Hurricane\\_Floyd   \n",
       "3                  Self-defense   \n",
       "4               Kenosha\\_Comets   \n",
       "...                         ...   \n",
       "1006               Rosa\\_Brooks   \n",
       "1007                Imperialism   \n",
       "1008                   Clapping   \n",
       "1009              House\\_arrest   \n",
       "1010  Americano\\_Futebol\\_Clube   \n",
       "\n",
       "                                               uri_list  \n",
       "0     [http://www.w3.org/2002/07/owl#Thing, http://d...  \n",
       "1     [http://www.w3.org/2002/07/owl#Thing, http://d...  \n",
       "2                                                  None  \n",
       "3                                                  None  \n",
       "4     [http://www.w3.org/2002/07/owl#Thing, http://d...  \n",
       "...                                                 ...  \n",
       "1006            [http://dbpedia.org/resource/Professor]  \n",
       "1007             [http://dbpedia.org/resource/Advocacy]  \n",
       "1008                [http://dbpedia.org/resource/Sound]  \n",
       "1009  [http://www.w3.org/2002/07/owl#Thing, http://d...  \n",
       "1010  [http://www.w3.org/2002/07/owl#Thing, http://d...  \n",
       "\n",
       "[1011 rows x 4 columns]"
      ]
     },
     "execution_count": 127,
     "metadata": {},
     "output_type": "execute_result"
    }
   ],
   "source": [
    "resources_to_map"
   ]
  },
  {
   "cell_type": "code",
   "execution_count": 152,
   "id": "spectacular-moore",
   "metadata": {},
   "outputs": [
    {
     "data": {
      "text/plain": [
       "['http://dbpedia.org/resource/University']"
      ]
     },
     "execution_count": 152,
     "metadata": {},
     "output_type": "execute_result"
    }
   ],
   "source": [
    "query_item('Arizona_State_University')"
   ]
  },
  {
   "cell_type": "code",
   "execution_count": 131,
   "id": "accredited-family",
   "metadata": {},
   "outputs": [],
   "source": [
    "resources_to_map.set_index('uri')[['uri_list']].explode('uri_list').to_csv('../data/dbpedia_resource_mapping.csv')"
   ]
  }
 ],
 "metadata": {
  "kernelspec": {
   "display_name": "Python 3",
   "language": "python",
   "name": "python3"
  },
  "language_info": {
   "codemirror_mode": {
    "name": "ipython",
    "version": 3
   },
   "file_extension": ".py",
   "mimetype": "text/x-python",
   "name": "python",
   "nbconvert_exporter": "python",
   "pygments_lexer": "ipython3",
   "version": "3.7.3"
  }
 },
 "nbformat": 4,
 "nbformat_minor": 5
}
